{
 "cells": [
  {
   "cell_type": "code",
   "execution_count": 5,
   "metadata": {},
   "outputs": [],
   "source": [
    "import numpy as np"
   ]
  },
  {
   "cell_type": "markdown",
   "metadata": {},
   "source": [
    "# 2. 퍼셉트론"
   ]
  },
  {
   "cell_type": "markdown",
   "metadata": {},
   "source": [
    "## 2.1 퍼셉트론이란?\n",
    "\n",
    "퍼셉트론 신호는 0과 1이 있다. \n",
    "뉴런들에서 보내온 신호의 총 합이 한계를(=임계값, θ) 넘어야만 1을 출력한다. (== 뉴런이 활성화하다)\n",
    "\n",
    "이는 전류에서의 저항과 비슷하지만 반대의 의미를 가지고 있다. (저항과 반대로 높을수록 잘 흐름.)\n"
   ]
  },
  {
   "cell_type": "markdown",
   "metadata": {},
   "source": [
    "## 2.2 단순한 논리 회로\n",
    "\n",
    "### 2.2.1 AND 게이트 \n",
    "\n",
    "x1와 x2 모두 1 일때만 1. 이에 맞는 weight 와 θ 를 잘 정해주면 됨. \n",
    "\n",
    "### 2.2.2 NAND 게이트와 OR 게이트\n",
    "\n",
    "NAND = Not AND. AND의 출력을 뒤집은 것. 즉, 모두 1일 때만 0 출력하고 그 외에는 1. \n",
    "OR도 잘 맞는 weight를 구할 수 있다. \n",
    "\n",
    "여기선 사람이 매개변수의 값을 정하지만, 기계학습에선 컴퓨터가 적절한 매개변수의 값을 찾는다. \n",
    "'학습'이란 적절한 매개변수의 값을 정하는 과정. \n",
    "사람은 퍼셉트론 구조(모델)를 고민하고 학습할 데이터를 주는 역할. \n",
    "\n",
    "세 경우 모두 퍼셉트론의 구조는 같다. "
   ]
  },
  {
   "cell_type": "markdown",
   "metadata": {},
   "source": [
    "## 2.3 퍼셉트론 구현하기. \n",
    "\n",
    "### 2.3.1 간단한 구현"
   ]
  },
  {
   "cell_type": "code",
   "execution_count": 1,
   "metadata": {},
   "outputs": [],
   "source": [
    "def AND(x1, x2):\n",
    "    w1, w2, theta = 0.5, 0.5, 0.7\n",
    "    tmp = x1*w1 + x2*w2\n",
    "    if tmp <= theta:\n",
    "        return 0\n",
    "    elif tmp > theta:\n",
    "        return 1"
   ]
  },
  {
   "cell_type": "code",
   "execution_count": 3,
   "metadata": {},
   "outputs": [
    {
     "name": "stdout",
     "output_type": "stream",
     "text": [
      "0 0 0 1\n"
     ]
    }
   ],
   "source": [
    "print(AND(0,0), AND(1,0), AND(0,1), AND(1,1))"
   ]
  },
  {
   "cell_type": "markdown",
   "metadata": {},
   "source": []
  },
  {
   "cell_type": "markdown",
   "metadata": {},
   "source": [
    "### 2.3.2 가중치와 편향 도입\n",
    "\n",
    "세타를 이항하여 0과의 비교로 만들자. 그러면 이 이항한 세타를 '편향'이라 부른다. "
   ]
  },
  {
   "cell_type": "code",
   "execution_count": 6,
   "metadata": {},
   "outputs": [
    {
     "data": {
      "text/plain": [
       "array([0. , 0.5])"
      ]
     },
     "execution_count": 6,
     "metadata": {},
     "output_type": "execute_result"
    }
   ],
   "source": [
    "x = np.array([0,1]) #입력\n",
    "w = np.array([0.5, 0.5]) #가중치\n",
    "b = -0.7 #편향\n",
    "\n",
    "w*x"
   ]
  },
  {
   "cell_type": "code",
   "execution_count": 7,
   "metadata": {},
   "outputs": [
    {
     "data": {
      "text/plain": [
       "0.5"
      ]
     },
     "execution_count": 7,
     "metadata": {},
     "output_type": "execute_result"
    }
   ],
   "source": [
    "np.sum(w*x)"
   ]
  },
  {
   "cell_type": "code",
   "execution_count": 8,
   "metadata": {},
   "outputs": [
    {
     "data": {
      "text/plain": [
       "-0.19999999999999996"
      ]
     },
     "execution_count": 8,
     "metadata": {},
     "output_type": "execute_result"
    }
   ],
   "source": [
    "np.sum(w*x) + b"
   ]
  },
  {
   "cell_type": "markdown",
   "metadata": {},
   "source": [
    "### 2.3.3 가중치와 편향 구현하기 "
   ]
  },
  {
   "cell_type": "code",
   "execution_count": 10,
   "metadata": {},
   "outputs": [],
   "source": [
    "def AND(x1, x2):\n",
    "    x = np.array([x1, x2])\n",
    "    w = np.array([0.5, 0.5])\n",
    "    b = -0.7\n",
    "    tmp = np.sum(w*x) + b\n",
    "    if tmp <= 0:\n",
    "        return 0\n",
    "    else:\n",
    "        return 1"
   ]
  },
  {
   "cell_type": "markdown",
   "metadata": {},
   "source": [
    "w1, w2는 입력 신호가 주는 영향력, b(세타, 편향)은 임계치이므로 얼마나 쉽게 활성화되는지를 나타냄. \n"
   ]
  },
  {
   "cell_type": "code",
   "execution_count": 11,
   "metadata": {},
   "outputs": [],
   "source": [
    "def NAND(x1, x2):\n",
    "    x = np.array([x1, x2])\n",
    "    w = np.array([-0.5, -0.5]) # AND와 반대. \n",
    "    b = 0.7 # AND와 반대. \n",
    "    tmp = np.sum(w*x) + b\n",
    "    if tmp <= 0:\n",
    "        return 0\n",
    "    else:\n",
    "        return 1"
   ]
  },
  {
   "cell_type": "code",
   "execution_count": 12,
   "metadata": {},
   "outputs": [],
   "source": [
    "def OR(x1, x2):\n",
    "    x = np.array([x1, x2])\n",
    "    w = np.array([0.5, 0.5])\n",
    "    b = -0.2 # AND와 이것만 다름. 1개의 신호 활성화 만으로도 넘어갈 수 있느냐 없느냐 \n",
    "    tmp = np.sum(w*x) + b\n",
    "    if tmp <= 0:\n",
    "        return 0\n",
    "    else:\n",
    "        return 1"
   ]
  },
  {
   "cell_type": "markdown",
   "metadata": {},
   "source": [
    "## 2.4 퍼셉트론의 한계\n",
    "\n",
    "XOR게이트는 힘들다. \n",
    "\n",
    "### 2.4.1\n",
    "\n",
    "XOR = 베타적 논리합이다. 4 점을 직선으로는 나눌 수 없다. 따라서 직선을 포기한다. \n",
    "비선형으로 나타내야 한다. \n",
    "단층 퍼셉트론 single-layer perceptron으로는 불가능하다. \n",
    "\n",
    "## 2.5 다층 퍼셉트론이 충돌한다면\n",
    "\n",
    "퍼셉트론은 다층으로 층을 쌓아 multi-layer perceptron을 만들 수 있다는 점이 아름답다. \n",
    "층을 쌓아보자. \n",
    "\n",
    "### 2.5.1 \n",
    "<img src=\"https://upload.wikimedia.org/wikipedia/commons/a/a2/254px_3gate_XOR.jpg\">\n",
    "즉, NAND 게이트와 OR 게이트를 모아 AND 게이트에서 합치면 XOR과 같은 효과가 난다. \n"
   ]
  },
  {
   "cell_type": "markdown",
   "metadata": {},
   "source": [
    "### 2.5.2 XOR 게이트 구현하기. "
   ]
  },
  {
   "cell_type": "code",
   "execution_count": 13,
   "metadata": {},
   "outputs": [],
   "source": [
    "def XOR(x1, x2):\n",
    "    s1 = NAND(x1, x2)\n",
    "    s2 = OR(x1, x2)\n",
    "    y = AND(s1, s2)\n",
    "    return y"
   ]
  },
  {
   "cell_type": "code",
   "execution_count": 14,
   "metadata": {},
   "outputs": [
    {
     "name": "stdout",
     "output_type": "stream",
     "text": [
      "0 1 1 0\n"
     ]
    }
   ],
   "source": [
    "print(XOR(0,0), XOR(0,1), XOR(1,0), XOR(1,1))"
   ]
  },
  {
   "cell_type": "markdown",
   "metadata": {},
   "source": [
    "<img src=\"https://t1.daumcdn.net/cfile/tistory/2461A3375926C75436\">\n",
    "xor은 다층 퍼셉트론이다. (2층)\n",
    "\n",
    "이처럼 층을 쌓아 1층으로는 못했던 작업을 구현할 수 있다. "
   ]
  },
  {
   "cell_type": "markdown",
   "metadata": {},
   "source": [
    "## NAND에서 컴퓨터까지 \n",
    "\n",
    "퍼셉트론의 원리를 이용하면 컴퓨터까지 구현할 수 있다. \n",
    "\n",
    "## 2.7 정리\n",
    "\n",
    "- 퍼셉트론은 입출력을 갖춘 알고리즘이다. 입력을 주면 정해진 규칙에 따른 값을 출력한다. \n",
    "- 퍼센트론에서는 '가중치'와 '편향' 을 매개변수로 설정한다. \n",
    "- 퍼셉트론으로 AND, OR 게이트 등의 논리회로를 표현할 수 있다. \n",
    "- XOR 게이트는 단층 퍼셉트론으론 표현할 수 없다. \n",
    "- 2층 퍼셉트론을 활용하면 XOR 게이트를 표현할 수 있다. \n",
    "- 단측 퍼셉트론은 직선형 영역만 표현할 수 있고, 다층 퍼셉트론은 비선형 영역도 표현할 수 있다. \n",
    "- 다층 퍼셉트론은 (이론상) 컴퓨터를 표현할 수 있다. "
   ]
  },
  {
   "cell_type": "code",
   "execution_count": null,
   "metadata": {},
   "outputs": [],
   "source": []
  }
 ],
 "metadata": {
  "kernelspec": {
   "display_name": "Python 3",
   "language": "python",
   "name": "python3"
  },
  "language_info": {
   "codemirror_mode": {
    "name": "ipython",
    "version": 3
   },
   "file_extension": ".py",
   "mimetype": "text/x-python",
   "name": "python",
   "nbconvert_exporter": "python",
   "pygments_lexer": "ipython3",
   "version": "3.6.4"
  }
 },
 "nbformat": 4,
 "nbformat_minor": 2
}
